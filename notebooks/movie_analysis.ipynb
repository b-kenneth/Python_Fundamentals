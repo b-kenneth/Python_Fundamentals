{
 "cells": [
  {
   "cell_type": "markdown",
   "id": "2a017b6b",
   "metadata": {},
   "source": [
    "# Movie Data Analysis with PySpark"
   ]
  },
  {
   "cell_type": "markdown",
   "id": "badd8b50",
   "metadata": {},
   "source": [
    "## Setup and Imports"
   ]
  },
  {
   "cell_type": "code",
   "execution_count": 1,
   "id": "e0f7cfbb",
   "metadata": {},
   "outputs": [
    {
     "name": "stdout",
     "output_type": "stream",
     "text": [
      "Setup complete\n"
     ]
    }
   ],
   "source": [
    "# Add the parent directory to sys.path to import from src\n",
    "import sys\n",
    "import os\n",
    "sys.path.append(os.path.abspath(os.path.join(os.getcwd(), '..')))\n",
    "\n",
    "# Import necessary libraries\n",
    "import json\n",
    "from dotenv import load_dotenv\n",
    "from pyspark.sql import functions as F\n",
    "\n",
    "# Import project modules\n",
    "from src.data_extraction import initialize_spark, fetch_all_movies, create_spark_dataframe\n",
    "\n",
    "# Load environment variables\n",
    "load_dotenv()\n",
    "\n",
    "# Access API token from environment variable\n",
    "API_ACCESS_TOKEN = os.getenv('API_ACCESS_TOKEN')\n",
    "BASE_URL = \"https://api.themoviedb.org/3/movie\"\n",
    "\n",
    "print(\"Setup complete\")\n"
   ]
  },
  {
   "cell_type": "markdown",
   "id": "ee10e98b",
   "metadata": {},
   "source": [
    "## Initialize Spark Session"
   ]
  },
  {
   "cell_type": "code",
   "execution_count": 2,
   "id": "88573368",
   "metadata": {},
   "outputs": [
    {
     "name": "stderr",
     "output_type": "stream",
     "text": [
      "2025-04-25 13:57:46,265 - src.data_extraction - INFO - PySpark session initialized: version 3.5.5\n"
     ]
    },
    {
     "name": "stdout",
     "output_type": "stream",
     "text": [
      "PySpark version: 3.5.5\n"
     ]
    }
   ],
   "source": [
    "# Initialize Spark session\n",
    "os.environ['PYSPARK_PYTHON'] = sys.executable\n",
    "os.environ['PYSPARK_DRIVER_PYTHON'] = sys.executable\n",
    "\n",
    "spark = initialize_spark(app_name=\"Movie Data Analysis\")\n",
    "print(f\"PySpark version: {spark.version}\")\n",
    "\n"
   ]
  },
  {
   "cell_type": "markdown",
   "id": "08189b1e",
   "metadata": {},
   "source": [
    "## Step 1: Fetch Movie Data from API"
   ]
  },
  {
   "cell_type": "code",
   "execution_count": 3,
   "id": "3a7e269f",
   "metadata": {},
   "outputs": [
    {
     "name": "stderr",
     "output_type": "stream",
     "text": [
      "2025-04-25 13:57:46,302 - src.data_extraction - INFO - Fetching data for 19 movies\n",
      "2025-04-25 13:57:48,705 - src.data_extraction - ERROR - Error 404 for movie_id=0\n",
      "2025-04-25 13:57:49,536 - src.data_extraction - INFO - Successfully fetched data for movie_id=299534\n",
      "2025-04-25 13:57:49,954 - src.data_extraction - INFO - Successfully fetched data for movie_id=19995\n",
      "2025-04-25 13:57:50,570 - src.data_extraction - INFO - Successfully fetched data for movie_id=140607\n",
      "2025-04-25 13:57:51,255 - src.data_extraction - INFO - Successfully fetched data for movie_id=299536\n",
      "2025-04-25 13:57:51,956 - src.data_extraction - INFO - Successfully fetched data for movie_id=597\n",
      "2025-04-25 13:57:52,335 - src.data_extraction - INFO - Successfully fetched data for movie_id=135397\n",
      "2025-04-25 13:57:52,870 - src.data_extraction - INFO - Successfully fetched data for movie_id=420818\n",
      "2025-04-25 13:57:53,588 - src.data_extraction - INFO - Successfully fetched data for movie_id=24428\n",
      "2025-04-25 13:57:54,567 - src.data_extraction - INFO - Successfully fetched data for movie_id=168259\n",
      "2025-04-25 13:57:55,067 - src.data_extraction - INFO - Successfully fetched data for movie_id=99861\n",
      "2025-04-25 13:57:55,700 - src.data_extraction - INFO - Successfully fetched data for movie_id=284054\n",
      "2025-04-25 13:57:56,520 - src.data_extraction - INFO - Successfully fetched data for movie_id=12445\n",
      "2025-04-25 13:57:57,367 - src.data_extraction - INFO - Successfully fetched data for movie_id=181808\n",
      "2025-04-25 13:57:58,550 - src.data_extraction - INFO - Successfully fetched data for movie_id=330457\n",
      "2025-04-25 13:57:59,002 - src.data_extraction - INFO - Successfully fetched data for movie_id=351286\n",
      "2025-04-25 13:57:59,620 - src.data_extraction - INFO - Successfully fetched data for movie_id=109445\n",
      "2025-04-25 13:57:59,966 - src.data_extraction - INFO - Successfully fetched data for movie_id=321612\n",
      "2025-04-25 13:58:00,450 - src.data_extraction - INFO - Successfully fetched data for movie_id=260513\n",
      "2025-04-25 13:58:00,565 - src.data_extraction - INFO - Successfully fetched data for 18 out of 19 movies\n"
     ]
    },
    {
     "name": "stdout",
     "output_type": "stream",
     "text": [
      "Raw data saved to file, fetched 18 movies\n",
      "root\n",
      " |-- adult: boolean (nullable = true)\n",
      " |-- backdrop_path: string (nullable = true)\n",
      " |-- belongs_to_collection: struct (nullable = true)\n",
      " |    |-- backdrop_path: string (nullable = true)\n",
      " |    |-- id: long (nullable = true)\n",
      " |    |-- name: string (nullable = true)\n",
      " |    |-- poster_path: string (nullable = true)\n",
      " |-- budget: long (nullable = true)\n",
      " |-- credits: struct (nullable = true)\n",
      " |    |-- cast: array (nullable = true)\n",
      " |    |    |-- element: struct (containsNull = true)\n",
      " |    |    |    |-- adult: boolean (nullable = true)\n",
      " |    |    |    |-- cast_id: long (nullable = true)\n",
      " |    |    |    |-- character: string (nullable = true)\n",
      " |    |    |    |-- credit_id: string (nullable = true)\n",
      " |    |    |    |-- gender: long (nullable = true)\n",
      " |    |    |    |-- id: long (nullable = true)\n",
      " |    |    |    |-- known_for_department: string (nullable = true)\n",
      " |    |    |    |-- name: string (nullable = true)\n",
      " |    |    |    |-- order: long (nullable = true)\n",
      " |    |    |    |-- original_name: string (nullable = true)\n",
      " |    |    |    |-- popularity: double (nullable = true)\n",
      " |    |    |    |-- profile_path: string (nullable = true)\n",
      " |    |-- crew: array (nullable = true)\n",
      " |    |    |-- element: struct (containsNull = true)\n",
      " |    |    |    |-- adult: boolean (nullable = true)\n",
      " |    |    |    |-- credit_id: string (nullable = true)\n",
      " |    |    |    |-- department: string (nullable = true)\n",
      " |    |    |    |-- gender: long (nullable = true)\n",
      " |    |    |    |-- id: long (nullable = true)\n",
      " |    |    |    |-- job: string (nullable = true)\n",
      " |    |    |    |-- known_for_department: string (nullable = true)\n",
      " |    |    |    |-- name: string (nullable = true)\n",
      " |    |    |    |-- original_name: string (nullable = true)\n",
      " |    |    |    |-- popularity: double (nullable = true)\n",
      " |    |    |    |-- profile_path: string (nullable = true)\n",
      " |-- genres: array (nullable = true)\n",
      " |    |-- element: struct (containsNull = true)\n",
      " |    |    |-- id: long (nullable = true)\n",
      " |    |    |-- name: string (nullable = true)\n",
      " |-- homepage: string (nullable = true)\n",
      " |-- id: long (nullable = true)\n",
      " |-- imdb_id: string (nullable = true)\n",
      " |-- origin_country: array (nullable = true)\n",
      " |    |-- element: string (containsNull = true)\n",
      " |-- original_language: string (nullable = true)\n",
      " |-- original_title: string (nullable = true)\n",
      " |-- overview: string (nullable = true)\n",
      " |-- popularity: double (nullable = true)\n",
      " |-- poster_path: string (nullable = true)\n",
      " |-- production_companies: array (nullable = true)\n",
      " |    |-- element: struct (containsNull = true)\n",
      " |    |    |-- id: long (nullable = true)\n",
      " |    |    |-- logo_path: string (nullable = true)\n",
      " |    |    |-- name: string (nullable = true)\n",
      " |    |    |-- origin_country: string (nullable = true)\n",
      " |-- production_countries: array (nullable = true)\n",
      " |    |-- element: struct (containsNull = true)\n",
      " |    |    |-- iso_3166_1: string (nullable = true)\n",
      " |    |    |-- name: string (nullable = true)\n",
      " |-- release_date: string (nullable = true)\n",
      " |-- revenue: long (nullable = true)\n",
      " |-- runtime: long (nullable = true)\n",
      " |-- spoken_languages: array (nullable = true)\n",
      " |    |-- element: struct (containsNull = true)\n",
      " |    |    |-- english_name: string (nullable = true)\n",
      " |    |    |-- iso_639_1: string (nullable = true)\n",
      " |    |    |-- name: string (nullable = true)\n",
      " |-- status: string (nullable = true)\n",
      " |-- tagline: string (nullable = true)\n",
      " |-- title: string (nullable = true)\n",
      " |-- video: boolean (nullable = true)\n",
      " |-- vote_average: double (nullable = true)\n",
      " |-- vote_count: long (nullable = true)\n",
      "\n",
      "+----------------------------------------------------------------------------------------------------+----------------------------------------------------------------------+----------------------------------------------------------------------------------------------------------------------------------------------------------------------------------------------------------------------------------------+\n",
      "|belongs_to_collection                                                                               |genres                                                                |production_companies                                                                                                                                                                                                                    |\n",
      "+----------------------------------------------------------------------------------------------------+----------------------------------------------------------------------+----------------------------------------------------------------------------------------------------------------------------------------------------------------------------------------------------------------------------------------+\n",
      "|{/zuW6fOiusv4X9nnW3paHGfXcSll.jpg, 86311, The Avengers Collection, /yFSIUVTCvgYrpalUktulvk3Gi5Y.jpg}|[{12, Adventure}, {878, Science Fiction}, {28, Action}]               |[{420, /hUzeosd33nzE5MCNsZxCGEKTXaQ.png, Marvel Studios, US}]                                                                                                                                                                           |\n",
      "|{/gxnvX9kF7RRUQYvB52dMLPgeJkt.jpg, 87096, Avatar Collection, /3C5brXxnBxfkeKWwA1Fh4xvy4wr.jpg}      |[{28, Action}, {12, Adventure}, {14, Fantasy}, {878, Science Fiction}]|[{444, NULL, Dune Entertainment, US}, {574, /nLNW1TeFUYU0M5U0qmYUzOIwlB6.png, Lightstorm Entertainment, US}, {25, /qZCc1lty5FzX30aOCVRBLzaVmcp.png, 20th Century Fox, US}, {290, /jrgCuaQsY9ouP5ILZf4Dq4ZOkIX.png, Ingenious Media, GB}]|\n",
      "|{/zZDkgOmFMVYpGAkR9Tkxw0CRnxX.jpg, 10, Star Wars Collection, /aSrMJYmQX8kpF26LijkCsYhBMvm.jpg}      |[{12, Adventure}, {28, Action}, {878, Science Fiction}]               |[{1, /tlVSws0RvvtPBwViUyOFAO0vcQS.png, Lucasfilm Ltd., US}, {11461, /p9FoEt5shEKRWRKVIlvFaEmRnun.png, Bad Robot, US}]                                                                                                                   |\n",
      "|{/zuW6fOiusv4X9nnW3paHGfXcSll.jpg, 86311, The Avengers Collection, /yFSIUVTCvgYrpalUktulvk3Gi5Y.jpg}|[{12, Adventure}, {28, Action}, {878, Science Fiction}]               |[{420, /hUzeosd33nzE5MCNsZxCGEKTXaQ.png, Marvel Studios, US}]                                                                                                                                                                           |\n",
      "|NULL                                                                                                |[{18, Drama}, {10749, Romance}]                                       |[{4, /gz66EfNoYPqHTYI4q9UEN4CbHRc.png, Paramount Pictures, US}, {25, /qZCc1lty5FzX30aOCVRBLzaVmcp.png, 20th Century Fox, US}, {574, /nLNW1TeFUYU0M5U0qmYUzOIwlB6.png, Lightstorm Entertainment, US}]                                    |\n",
      "+----------------------------------------------------------------------------------------------------+----------------------------------------------------------------------+----------------------------------------------------------------------------------------------------------------------------------------------------------------------------------------------------------------------------------------+\n",
      "only showing top 5 rows\n",
      "\n"
     ]
    }
   ],
   "source": [
    "# List of movie IDs to fetch (as specified in the project requirements)\n",
    "movie_ids = [0, 299534, 19995, 140607, 299536, 597, 135397, 420818, 24428,\n",
    "             168259, 99861, 284054, 12445, 181808, 330457, 351286, 109445,\n",
    "             321612, 260513]\n",
    "\n",
    "# Fetch movie data from API\n",
    "all_movies_data = fetch_all_movies(movie_ids, BASE_URL, API_ACCESS_TOKEN)\n",
    "\n",
    "# Save raw data to JSON file for backup\n",
    "with open(\"../data/movies_raw.json\", \"w\") as json_file:\n",
    "    json.dump(all_movies_data, json_file, indent=4)\n",
    "print(f\"Raw data saved to file, fetched {len(all_movies_data)} movies\")\n",
    "\n",
    "# Convert movie data to PySpark DataFrame\n",
    "movies_df = spark.read.option(\"multiline\", \"true\").json(\"../data/movies_raw.json\")\n",
    "\n",
    "\n",
    "# Display schema to understand the data structure\n",
    "movies_df.printSchema()\n",
    "\n",
    "# Display a sample of the data\n",
    "movies_df.select(\"belongs_to_collection\", \"genres\", \"production_companies\").show(5, truncate=False)\n",
    "\n"
   ]
  },
  {
   "cell_type": "code",
   "execution_count": 4,
   "id": "0439bfea",
   "metadata": {},
   "outputs": [
    {
     "data": {
      "text/plain": [
       "DataFrame[adult: boolean, backdrop_path: string, belongs_to_collection: struct<backdrop_path:string,id:bigint,name:string,poster_path:string>, budget: bigint, credits: struct<cast:array<struct<adult:boolean,cast_id:bigint,character:string,credit_id:string,gender:bigint,id:bigint,known_for_department:string,name:string,order:bigint,original_name:string,popularity:double,profile_path:string>>,crew:array<struct<adult:boolean,credit_id:string,department:string,gender:bigint,id:bigint,job:string,known_for_department:string,name:string,original_name:string,popularity:double,profile_path:string>>>, genres: array<struct<id:bigint,name:string>>, homepage: string, id: bigint, imdb_id: string, origin_country: array<string>, original_language: string, original_title: string, overview: string, popularity: double, poster_path: string, production_companies: array<struct<id:bigint,logo_path:string,name:string,origin_country:string>>, production_countries: array<struct<iso_3166_1:string,name:string>>, release_date: string, revenue: bigint, runtime: bigint, spoken_languages: array<struct<english_name:string,iso_639_1:string,name:string>>, status: string, tagline: string, title: string, video: boolean, vote_average: double, vote_count: bigint]"
      ]
     },
     "execution_count": 4,
     "metadata": {},
     "output_type": "execute_result"
    }
   ],
   "source": [
    "# Cache the DataFrame for better performance in subsequent operations\n",
    "movies_df.cache()\n",
    "\n",
    "# Save DataFrame in Parquet format (efficient for later loading)\n",
    "# movies_df.write.mode(\"overwrite\").parquet(\"../data/movies_raw.parquet\")\n",
    "# print(\"DataFrame saved to Parquet file\")\n"
   ]
  },
  {
   "cell_type": "code",
   "execution_count": 5,
   "id": "b58f14ea",
   "metadata": {},
   "outputs": [],
   "source": [
    "# Define constants\n",
    "COLUMNS_TO_DROP = ['adult', 'imdb_id', 'original_title', 'video', 'homepage']\n",
    "FINAL_COLUMN_ORDER = [\n",
    "    'id', 'title', 'tagline', 'release_date', 'genre_names', 'collection_name',\n",
    "    'original_language', 'budget_musd', 'revenue_musd', 'production_companies_names',\n",
    "    'production_countries_names', 'vote_count', 'vote_average', 'popularity', 'runtime',\n",
    "    'overview', 'spoken_languages_names', 'poster_path', 'cast', 'cast_size', 'director', 'crew_size'\n",
    "]"
   ]
  },
  {
   "cell_type": "markdown",
   "id": "301d169e",
   "metadata": {},
   "source": [
    "## Step 2: Data Cleaning and Preprocessing\n",
    "\n",
    "### Process and Clean the Data"
   ]
  },
  {
   "cell_type": "code",
   "execution_count": 6,
   "id": "ea4672fa",
   "metadata": {},
   "outputs": [],
   "source": [
    "from src.data_preprocessing import preprocess_movie_data, extract_data, process_credits"
   ]
  },
  {
   "cell_type": "code",
   "execution_count": 7,
   "id": "b6580744",
   "metadata": {},
   "outputs": [
    {
     "name": "stderr",
     "output_type": "stream",
     "text": [
      "2025-04-25 13:58:06,502 - src.data_preprocessing - INFO - Starting preprocessing pipeline\n",
      "2025-04-25 13:58:06,527 - src.data_preprocessing - INFO - Dropped columns: ['adult', 'imdb_id', 'original_title', 'video', 'homepage']\n"
     ]
    },
    {
     "name": "stdout",
     "output_type": "stream",
     "text": [
      "Extracting name from belongs_to_collection to collection_name\n",
      "Extracting name from genres to genre_names\n",
      "Extracting name from production_countries to production_countries_names\n",
      "Extracting name from production_companies to production_companies_names\n",
      "Extracting english_name from spoken_languages to spoken_languages_names\n",
      "Processing credits: extract_names from credits to cast\n",
      "Processing credits: count_members from credits to cast_size\n",
      "Processing credits: extract_by_job from credits to director\n",
      "Processing credits: count_members from credits to crew_size\n"
     ]
    },
    {
     "name": "stderr",
     "output_type": "stream",
     "text": [
      "2025-04-25 13:58:06,918 - src.data_preprocessing - INFO - Converting column data types\n",
      "2025-04-25 13:58:07,124 - src.data_preprocessing - INFO - Successfully converted column data types\n",
      "2025-04-25 13:58:07,124 - src.data_preprocessing - INFO - Handling missing and incorrect data\n",
      "2025-04-25 13:58:07,480 - src.data_preprocessing - INFO - Successfully handled missing and incorrect data\n",
      "2025-04-25 13:58:07,480 - src.data_preprocessing - INFO - Organizing final DataFrame\n",
      "2025-04-25 13:58:11,124 - src.data_preprocessing - INFO - Final DataFrame has 18 rows and 22 columns\n",
      "2025-04-25 13:58:11,124 - src.data_preprocessing - INFO - Preprocessing pipeline completed successfully\n"
     ]
    }
   ],
   "source": [
    "# Process the raw movie data through the complete preprocessing pipeline\n",
    "cleaned_df = preprocess_movie_data(movies_df, COLUMNS_TO_DROP, FINAL_COLUMN_ORDER)"
   ]
  },
  {
   "cell_type": "markdown",
   "id": "11fcd80f",
   "metadata": {},
   "source": [
    "### 2.2 Examine the Preprocessed Data"
   ]
  },
  {
   "cell_type": "code",
   "execution_count": 8,
   "id": "dbb8939a",
   "metadata": {},
   "outputs": [
    {
     "name": "stdout",
     "output_type": "stream",
     "text": [
      "root\n",
      " |-- id: integer (nullable = true)\n",
      " |-- title: string (nullable = true)\n",
      " |-- tagline: string (nullable = true)\n",
      " |-- release_date: date (nullable = true)\n",
      " |-- genre_names: string (nullable = false)\n",
      " |-- collection_name: string (nullable = true)\n",
      " |-- original_language: string (nullable = true)\n",
      " |-- budget_musd: double (nullable = true)\n",
      " |-- revenue_musd: double (nullable = true)\n",
      " |-- production_companies_names: string (nullable = false)\n",
      " |-- production_countries_names: string (nullable = false)\n",
      " |-- vote_count: integer (nullable = true)\n",
      " |-- vote_average: double (nullable = true)\n",
      " |-- popularity: double (nullable = true)\n",
      " |-- runtime: integer (nullable = true)\n",
      " |-- overview: string (nullable = true)\n",
      " |-- spoken_languages_names: string (nullable = false)\n",
      " |-- poster_path: string (nullable = true)\n",
      " |-- cast: string (nullable = true)\n",
      " |-- cast_size: integer (nullable = true)\n",
      " |-- director: string (nullable = true)\n",
      " |-- crew_size: integer (nullable = true)\n",
      "\n"
     ]
    }
   ],
   "source": [
    "# Display the schema of the preprocessed DataFrame\n",
    "cleaned_df.printSchema()"
   ]
  },
  {
   "cell_type": "code",
   "execution_count": 9,
   "id": "f9f1811d",
   "metadata": {},
   "outputs": [
    {
     "name": "stdout",
     "output_type": "stream",
     "text": [
      "+------+--------------------+--------------------+------------+--------------------+--------------------+-----------------+-----------+------------+--------------------------+--------------------------+----------+------------+----------+-------+--------------------+----------------------+--------------------+--------------------+---------+--------------------+---------+\n",
      "|    id|               title|             tagline|release_date|         genre_names|     collection_name|original_language|budget_musd|revenue_musd|production_companies_names|production_countries_names|vote_count|vote_average|popularity|runtime|            overview|spoken_languages_names|         poster_path|                cast|cast_size|            director|crew_size|\n",
      "+------+--------------------+--------------------+------------+--------------------+--------------------+-----------------+-----------+------------+--------------------------+--------------------------+----------+------------+----------+-------+--------------------+----------------------+--------------------+--------------------+---------+--------------------+---------+\n",
      "|299534|   Avengers: Endgame|  Avenge the fallen.|  2019-04-24|Adventure|Science...|The Avengers Coll...|               en|      356.0|   2799.4391|            Marvel Studios|      United States of ...|     26259|       8.237|   63.2407|    181|After the devasta...|  English|Japanese|...|/ulzhLuWrPK07P1Yk...|Robert Downey Jr....|      105|Anthony Russo|Joe...|      593|\n",
      "| 19995|              Avatar|Enter the world o...|  2009-12-15|Action|Adventure|...|   Avatar Collection|               en|      237.0| 2923.706026|      Dune Entertainmen...|      United States of ...|     32166|       7.588|   27.7054|    162|In the 22nd centu...|       English|Spanish|/kyeqWdyUXW608qlY...|Sam Worthington|Z...|       65|       James Cameron|      986|\n",
      "|140607|Star Wars: The Fo...|Every generation ...|  2015-12-15|Adventure|Action|...|Star Wars Collection|               en|      245.0| 2068.223624|      Lucasfilm Ltd.|Ba...|      United States of ...|     19699|       7.261|   16.3522|    136|Thirty years afte...|               English|/wqnLdwVXoBjKibFR...|Harrison Ford|Mar...|      182|         J.J. Abrams|      257|\n",
      "|299536|Avengers: Infinit...|Destiny arrives a...|  2018-04-25|Adventure|Action|...|The Avengers Coll...|               en|      300.0| 2052.415039|            Marvel Studios|      United States of ...|     30442|       8.235|  110.6769|    149|As the Avengers a...|         English|Xhosa|/7WsyChQLEftFiDOV...|Robert Downey Jr....|       69|Joe Russo|Anthony...|      724|\n",
      "|   597|             Titanic|Nothing on Earth ...|  1997-11-18|       Drama|Romance|                NULL|               en|      200.0| 2264.162353|      Paramount Picture...|      United States of ...|     25923|       7.905|   44.4478|    194|101-year-old Rose...|  English|French|Ge...|/9xjZS2rlVxm8SFx8...|Leonardo DiCaprio...|      116|       James Cameron|      260|\n",
      "+------+--------------------+--------------------+------------+--------------------+--------------------+-----------------+-----------+------------+--------------------------+--------------------------+----------+------------+----------+-------+--------------------+----------------------+--------------------+--------------------+---------+--------------------+---------+\n",
      "only showing top 5 rows\n",
      "\n"
     ]
    }
   ],
   "source": [
    "# Show a sample of the cleaned data\n",
    "cleaned_df.show(5)\n",
    "\n",
    "# cleaned_df.select(\"cast_size\", \"director\", \"crew_size\", \"cast\").show(truncate=False)\n",
    "\n",
    "\n",
    "# cleaned_df.select(\"title\", \"collection_name\", \"genre_names\", \"cast\").show(5, truncate=False)"
   ]
  },
  {
   "cell_type": "markdown",
   "id": "77f1b547",
   "metadata": {},
   "source": [
    "## Step 3: KPI Implementation & Analysis"
   ]
  },
  {
   "cell_type": "code",
   "execution_count": 10,
   "id": "bd08e395",
   "metadata": {},
   "outputs": [],
   "source": [
    "from src.analysis import *"
   ]
  },
  {
   "cell_type": "code",
   "execution_count": 11,
   "id": "422337ca",
   "metadata": {},
   "outputs": [],
   "source": [
    "# Register the DataFrame as a temporary SQL table for SQL-based analysis\n",
    "cleaned_df.createOrReplaceTempView(\"movies\")"
   ]
  },
  {
   "cell_type": "markdown",
   "id": "2026ea7a",
   "metadata": {},
   "source": [
    "### Calculate financial metrics (profit and ROI)"
   ]
  },
  {
   "cell_type": "code",
   "execution_count": 12,
   "id": "92c9ef01",
   "metadata": {},
   "outputs": [
    {
     "name": "stderr",
     "output_type": "stream",
     "text": [
      "2025-04-25 13:58:11,481 - src.analysis - INFO - Calculating financial metrics\n",
      "2025-04-25 13:58:11,532 - src.analysis - INFO - Successfully calculated financial metrics\n"
     ]
    },
    {
     "name": "stdout",
     "output_type": "stream",
     "text": [
      "Financial metrics calculated\n"
     ]
    }
   ],
   "source": [
    "movies_df = calculate_financial_metrics(cleaned_df)\n",
    "print(\"Financial metrics calculated\")"
   ]
  },
  {
   "cell_type": "markdown",
   "id": "9fcecd79",
   "metadata": {},
   "source": [
    "### Highest Revenue Movies"
   ]
  },
  {
   "cell_type": "code",
   "execution_count": 13,
   "id": "0bb45fc5",
   "metadata": {},
   "outputs": [
    {
     "name": "stderr",
     "output_type": "stream",
     "text": [
      "2025-04-25 13:58:11,548 - src.analysis - INFO - Finding top 10 highest revenue movies\n"
     ]
    },
    {
     "name": "stdout",
     "output_type": "stream",
     "text": [
      "\n",
      "Highest Revenue Movies:\n",
      "+--------------------+------------+------------+\n",
      "|               title|release_date|revenue_musd|\n",
      "+--------------------+------------+------------+\n",
      "|              Avatar|  2009-12-15| 2923.706026|\n",
      "|   Avengers: Endgame|  2019-04-24|   2799.4391|\n",
      "|             Titanic|  1997-11-18| 2264.162353|\n",
      "|Star Wars: The Fo...|  2015-12-15| 2068.223624|\n",
      "|Avengers: Infinit...|  2018-04-25| 2052.415039|\n",
      "+--------------------+------------+------------+\n",
      "only showing top 5 rows\n",
      "\n"
     ]
    }
   ],
   "source": [
    "highest_revenue = get_highest_revenue_movies(movies_df)\n",
    "print(\"\\nHighest Revenue Movies:\")\n",
    "highest_revenue.select(\"title\", \"release_date\", \"revenue_musd\").show(5)"
   ]
  },
  {
   "cell_type": "markdown",
   "id": "3c213cdb",
   "metadata": {},
   "source": [
    "### Highest Budget Movies"
   ]
  },
  {
   "cell_type": "code",
   "execution_count": 14,
   "id": "11bec0e8",
   "metadata": {},
   "outputs": [
    {
     "name": "stderr",
     "output_type": "stream",
     "text": [
      "2025-04-25 13:58:11,837 - src.analysis - INFO - Finding top 10 highest budget movies\n"
     ]
    },
    {
     "name": "stdout",
     "output_type": "stream",
     "text": [
      "\n",
      "Highest Budget Movies:\n",
      "+--------------------+------------+-----------+\n",
      "|               title|release_date|budget_musd|\n",
      "+--------------------+------------+-----------+\n",
      "|Avengers: Age of ...|  2015-04-22|      365.0|\n",
      "|   Avengers: Endgame|  2019-04-24|      356.0|\n",
      "|Avengers: Infinit...|  2018-04-25|      300.0|\n",
      "|       The Lion King|  2019-07-12|      260.0|\n",
      "|Star Wars: The Fo...|  2015-12-15|      245.0|\n",
      "+--------------------+------------+-----------+\n",
      "only showing top 5 rows\n",
      "\n"
     ]
    }
   ],
   "source": [
    "highest_budget = get_highest_budget_movies(movies_df)\n",
    "print(\"\\nHighest Budget Movies:\")\n",
    "highest_budget.select(\"title\", \"release_date\", \"budget_musd\").show(5)"
   ]
  },
  {
   "cell_type": "markdown",
   "id": "5c147261",
   "metadata": {},
   "source": [
    "### Highest Profit Movies"
   ]
  },
  {
   "cell_type": "code",
   "execution_count": 15,
   "id": "5234d1f8",
   "metadata": {},
   "outputs": [
    {
     "name": "stderr",
     "output_type": "stream",
     "text": [
      "2025-04-25 13:58:12,038 - src.analysis - INFO - Finding top 10 highest profit movies\n"
     ]
    },
    {
     "name": "stdout",
     "output_type": "stream",
     "text": [
      "\n",
      "Highest Profit Movies:\n",
      "+--------------------+-----------+------------+------------------+\n",
      "|               title|budget_musd|revenue_musd|       profit_musd|\n",
      "+--------------------+-----------+------------+------------------+\n",
      "|              Avatar|      237.0| 2923.706026|       2686.706026|\n",
      "|   Avengers: Endgame|      356.0|   2799.4391|         2443.4391|\n",
      "|             Titanic|      200.0| 2264.162353|       2064.162353|\n",
      "|Star Wars: The Fo...|      245.0| 2068.223624|1823.2236240000002|\n",
      "|Avengers: Infinit...|      300.0| 2052.415039|       1752.415039|\n",
      "+--------------------+-----------+------------+------------------+\n",
      "only showing top 5 rows\n",
      "\n"
     ]
    }
   ],
   "source": [
    "highest_profit = get_highest_profit_movies(movies_df)\n",
    "print(\"\\nHighest Profit Movies:\")\n",
    "highest_profit.select(\"title\", \"budget_musd\", \"revenue_musd\", \"profit_musd\").show(5)"
   ]
  },
  {
   "cell_type": "markdown",
   "id": "5a12ea55",
   "metadata": {},
   "source": [
    "### Lowest Profit Movies\n"
   ]
  },
  {
   "cell_type": "code",
   "execution_count": 16,
   "id": "41784743",
   "metadata": {},
   "outputs": [
    {
     "name": "stderr",
     "output_type": "stream",
     "text": [
      "2025-04-25 13:58:12,264 - src.analysis - INFO - Finding top 10 lowest profit movies\n"
     ]
    },
    {
     "name": "stdout",
     "output_type": "stream",
     "text": [
      "\n",
      "Lowest Profit Movies:\n",
      "+--------------------+-----------+------------+-----------+\n",
      "|               title|budget_musd|revenue_musd|profit_musd|\n",
      "+--------------------+-----------+------------+-----------+\n",
      "|Avengers: Age of ...|      365.0| 1405.403694|1040.403694|\n",
      "|       Incredibles 2|      200.0| 1242.805359|1042.805359|\n",
      "|Beauty and the Beast|      160.0| 1266.115964|1106.115964|\n",
      "|              Frozen|      150.0| 1274.219009|1124.219009|\n",
      "|Star Wars: The La...|      200.0|  1332.69883| 1132.69883|\n",
      "+--------------------+-----------+------------+-----------+\n",
      "only showing top 5 rows\n",
      "\n"
     ]
    }
   ],
   "source": [
    "lowest_profit = get_lowest_profit_movies(movies_df)\n",
    "print(\"\\nLowest Profit Movies:\")\n",
    "lowest_profit.select(\"title\", \"budget_musd\", \"revenue_musd\", \"profit_musd\").show(5)"
   ]
  },
  {
   "cell_type": "markdown",
   "id": "6794cdd5",
   "metadata": {},
   "source": [
    "### Highest ROI Movies"
   ]
  },
  {
   "cell_type": "code",
   "execution_count": 17,
   "id": "b633d4a6",
   "metadata": {},
   "outputs": [
    {
     "name": "stderr",
     "output_type": "stream",
     "text": [
      "2025-04-25 13:58:12,470 - src.analysis - INFO - Finding top 10 highest ROI movies (budget >= 10M)\n"
     ]
    },
    {
     "name": "stdout",
     "output_type": "stream",
     "text": [
      "\n",
      "Highest ROI Movies (Budget >= 10M):\n",
      "+--------------------+-----------+------------+-----------------+\n",
      "|               title|budget_musd|revenue_musd|              roi|\n",
      "+--------------------+-----------+------------+-----------------+\n",
      "|              Avatar|      237.0| 2923.706026|12.33631234599156|\n",
      "|             Titanic|      200.0| 2264.162353|     11.320811765|\n",
      "|      Jurassic World|      150.0| 1671.537444|      11.14358296|\n",
      "|Harry Potter and ...|      125.0| 1341.511219|     10.732089752|\n",
      "|           Frozen II|      150.0| 1453.683476|9.691223173333332|\n",
      "+--------------------+-----------+------------+-----------------+\n",
      "only showing top 5 rows\n",
      "\n"
     ]
    }
   ],
   "source": [
    "highest_roi = get_highest_roi_movies(movies_df)\n",
    "print(\"\\nHighest ROI Movies (Budget >= 10M):\")\n",
    "highest_roi.select(\"title\", \"budget_musd\", \"revenue_musd\", \"roi\").show(5)"
   ]
  },
  {
   "cell_type": "markdown",
   "id": "071eb8f0",
   "metadata": {},
   "source": [
    "### Lowest ROI Movies"
   ]
  },
  {
   "cell_type": "code",
   "execution_count": 18,
   "id": "11565912",
   "metadata": {},
   "outputs": [
    {
     "name": "stderr",
     "output_type": "stream",
     "text": [
      "2025-04-25 13:58:12,702 - src.analysis - INFO - Finding top 10 lowest ROI movies (budget >= 10M)\n"
     ]
    },
    {
     "name": "stdout",
     "output_type": "stream",
     "text": [
      "\n",
      "Lowest ROI Movies (Budget >= 10M):\n",
      "+--------------------+-----------+------------+------------------+\n",
      "|               title|budget_musd|revenue_musd|               roi|\n",
      "+--------------------+-----------+------------+------------------+\n",
      "|Avengers: Age of ...|      365.0| 1405.403694| 3.850421079452055|\n",
      "|       Incredibles 2|      200.0| 1242.805359|       6.214026795|\n",
      "|       The Lion King|      260.0| 1662.020819|6.3923877653846155|\n",
      "|Star Wars: The La...|      200.0|  1332.69883|        6.66349415|\n",
      "|       Black Panther|      200.0| 1349.926083|       6.749630415|\n",
      "+--------------------+-----------+------------+------------------+\n",
      "only showing top 5 rows\n",
      "\n"
     ]
    }
   ],
   "source": [
    "lowest_roi = get_lowest_roi_movies(movies_df)\n",
    "print(\"\\nLowest ROI Movies (Budget >= 10M):\")\n",
    "lowest_roi.select(\"title\", \"budget_musd\", \"revenue_musd\", \"roi\").show(5)"
   ]
  },
  {
   "cell_type": "markdown",
   "id": "9e3ff52a",
   "metadata": {},
   "source": [
    "### Most Voted Movies"
   ]
  },
  {
   "cell_type": "code",
   "execution_count": 19,
   "id": "698a2346",
   "metadata": {},
   "outputs": [
    {
     "name": "stderr",
     "output_type": "stream",
     "text": [
      "2025-04-25 13:58:12,907 - src.analysis - INFO - Finding top 10 most voted movies\n"
     ]
    },
    {
     "name": "stdout",
     "output_type": "stream",
     "text": [
      "\n",
      "Most Voted Movies:\n",
      "+--------------------+----------+------------+\n",
      "|               title|vote_count|vote_average|\n",
      "+--------------------+----------+------------+\n",
      "|              Avatar|     32166|       7.588|\n",
      "|        The Avengers|     31639|       7.741|\n",
      "|Avengers: Infinit...|     30442|       8.235|\n",
      "|   Avengers: Endgame|     26259|       8.237|\n",
      "|             Titanic|     25923|       7.905|\n",
      "+--------------------+----------+------------+\n",
      "only showing top 5 rows\n",
      "\n"
     ]
    }
   ],
   "source": [
    "most_voted = get_most_voted_movies(movies_df)\n",
    "print(\"\\nMost Voted Movies:\")\n",
    "most_voted.select(\"title\", \"vote_count\", \"vote_average\").show(5)"
   ]
  },
  {
   "cell_type": "markdown",
   "id": "4ffefba8",
   "metadata": {},
   "source": [
    "### Highest Rated Movies"
   ]
  },
  {
   "cell_type": "code",
   "execution_count": 20,
   "id": "e827ecc5",
   "metadata": {},
   "outputs": [
    {
     "name": "stderr",
     "output_type": "stream",
     "text": [
      "2025-04-25 13:58:13,105 - src.analysis - INFO - Finding top 10 highest rated movies (votes >= 10)\n"
     ]
    },
    {
     "name": "stdout",
     "output_type": "stream",
     "text": [
      "\n",
      "Highest Rated Movies (Vote Count >= 10):\n",
      "+--------------------+------------+----------+\n",
      "|               title|vote_average|vote_count|\n",
      "+--------------------+------------+----------+\n",
      "|   Avengers: Endgame|       8.237|     26259|\n",
      "|Avengers: Infinit...|       8.235|     30442|\n",
      "|Harry Potter and ...|       8.087|     20978|\n",
      "|             Titanic|       7.905|     25923|\n",
      "|        The Avengers|       7.741|     31639|\n",
      "+--------------------+------------+----------+\n",
      "only showing top 5 rows\n",
      "\n"
     ]
    }
   ],
   "source": [
    "highest_rated = get_highest_rated_movies(movies_df)\n",
    "print(\"\\nHighest Rated Movies (Vote Count >= 10):\")\n",
    "highest_rated.select(\"title\", \"vote_average\", \"vote_count\").show(5)"
   ]
  },
  {
   "cell_type": "markdown",
   "id": "f9947c86",
   "metadata": {},
   "source": [
    "### Lowest Rated Movies"
   ]
  },
  {
   "cell_type": "code",
   "execution_count": 21,
   "id": "8413b1dd",
   "metadata": {},
   "outputs": [
    {
     "name": "stderr",
     "output_type": "stream",
     "text": [
      "2025-04-25 13:58:13,300 - src.analysis - INFO - Finding top 10 lowest rated movies (votes >= 10)\n"
     ]
    },
    {
     "name": "stdout",
     "output_type": "stream",
     "text": [
      "\n",
      "Lowest Rated Movies (Vote Count >= 10):\n",
      "+--------------------+------------+----------+\n",
      "|               title|vote_average|vote_count|\n",
      "+--------------------+------------+----------+\n",
      "|Jurassic World: F...|       6.538|     12023|\n",
      "|      Jurassic World|       6.693|     20652|\n",
      "|Star Wars: The La...|       6.778|     15559|\n",
      "|Beauty and the Beast|       6.971|     15596|\n",
      "|       The Lion King|        7.11|     10325|\n",
      "+--------------------+------------+----------+\n",
      "only showing top 5 rows\n",
      "\n"
     ]
    }
   ],
   "source": [
    "lowest_rated = get_lowest_rated_movies(movies_df)\n",
    "print(\"\\nLowest Rated Movies (Vote Count >= 10):\")\n",
    "lowest_rated.select(\"title\", \"vote_average\", \"vote_count\").show(5)"
   ]
  },
  {
   "cell_type": "markdown",
   "id": "ebd98520",
   "metadata": {},
   "source": [
    "### Most Popular Movies"
   ]
  },
  {
   "cell_type": "code",
   "execution_count": 22,
   "id": "5ad24982",
   "metadata": {},
   "outputs": [
    {
     "name": "stderr",
     "output_type": "stream",
     "text": [
      "2025-04-25 13:58:13,486 - src.analysis - INFO - Finding top 10 most popular movies\n"
     ]
    },
    {
     "name": "stdout",
     "output_type": "stream",
     "text": [
      "\n",
      "Most Popular Movies:\n",
      "+--------------------+----------+------------+\n",
      "|               title|popularity|vote_average|\n",
      "+--------------------+----------+------------+\n",
      "|Avengers: Infinit...|  110.6769|       8.235|\n",
      "|       The Lion King|   79.3952|        7.11|\n",
      "|Beauty and the Beast|   77.8782|       6.971|\n",
      "|Star Wars: The La...|   74.7713|       6.778|\n",
      "|       Black Panther|   72.9206|       7.373|\n",
      "+--------------------+----------+------------+\n",
      "only showing top 5 rows\n",
      "\n"
     ]
    }
   ],
   "source": [
    "most_popular = get_most_popular_movies(movies_df)\n",
    "print(\"\\nMost Popular Movies:\")\n",
    "most_popular.select(\"title\", \"popularity\", \"vote_average\").show(5)"
   ]
  },
  {
   "cell_type": "markdown",
   "id": "824c8e82",
   "metadata": {},
   "source": [
    "## Advanced Movie Filtering & Search Queries"
   ]
  },
  {
   "cell_type": "markdown",
   "id": "8a007a15",
   "metadata": {},
   "source": [
    "### Science Fiction Action movies starring Bruce Willis"
   ]
  },
  {
   "cell_type": "code",
   "execution_count": 23,
   "id": "ec7b7857",
   "metadata": {},
   "outputs": [
    {
     "name": "stderr",
     "output_type": "stream",
     "text": [
      "2025-04-25 13:58:13,651 - src.analysis - INFO - Searching for Science Fiction Action movies starring Bruce Willis\n"
     ]
    },
    {
     "name": "stdout",
     "output_type": "stream",
     "text": [
      "\n",
      "Science Fiction Action movies starring Bruce Willis:\n",
      "+-----+-----------+------------+----+\n",
      "|title|genre_names|vote_average|cast|\n",
      "+-----+-----------+------------+----+\n",
      "+-----+-----------+------------+----+\n",
      "\n"
     ]
    }
   ],
   "source": [
    "scifi_action_willis = search_scifi_action_willis(movies_df)\n",
    "print(\"\\nScience Fiction Action movies starring Bruce Willis:\")\n",
    "scifi_action_willis.select(\"title\", \"genre_names\", \"vote_average\", \"cast\").show(truncate=False)"
   ]
  },
  {
   "cell_type": "markdown",
   "id": "2fba754c",
   "metadata": {},
   "source": [
    "### Movies starring Uma Thurman, directed by Quentin Tarantino"
   ]
  },
  {
   "cell_type": "code",
   "execution_count": 24,
   "id": "47a430e4",
   "metadata": {},
   "outputs": [
    {
     "name": "stderr",
     "output_type": "stream",
     "text": [
      "2025-04-25 13:58:13,863 - src.analysis - INFO - Searching for movies starring Uma Thurman and directed by Quentin Tarantino\n"
     ]
    },
    {
     "name": "stdout",
     "output_type": "stream",
     "text": [
      "\n",
      "Movies starring Uma Thurman, directed by Quentin Tarantino (shortest to longest):\n",
      "+-----+--------+----+-------+\n",
      "|title|director|cast|runtime|\n",
      "+-----+--------+----+-------+\n",
      "+-----+--------+----+-------+\n",
      "\n"
     ]
    }
   ],
   "source": [
    "thurman_tarantino = search_thurman_tarantino(movies_df)\n",
    "print(\"\\nMovies starring Uma Thurman, directed by Quentin Tarantino (shortest to longest):\")\n",
    "thurman_tarantino.select(\"title\", \"director\", \"cast\", \"runtime\").show(truncate=False)"
   ]
  },
  {
   "cell_type": "markdown",
   "id": "563e10ac",
   "metadata": {},
   "source": [
    "## Franchise vs. Standalone Movie Performance"
   ]
  },
  {
   "cell_type": "markdown",
   "id": "0e581f3a",
   "metadata": {},
   "source": [
    "### Compare franchise vs. standalone movie performance"
   ]
  },
  {
   "cell_type": "code",
   "execution_count": 25,
   "id": "94507c50",
   "metadata": {},
   "outputs": [
    {
     "name": "stderr",
     "output_type": "stream",
     "text": [
      "2025-04-25 13:58:14,119 - src.analysis - INFO - Comparing franchise vs. standalone movie performance\n"
     ]
    },
    {
     "name": "stdout",
     "output_type": "stream",
     "text": [
      "\n",
      "Franchise vs. Standalone Movie Performance:\n",
      "+------------+----------+-----------+---------------+-----------+----------+\n",
      "|mean_revenue|median_roi|mean_budget|mean_popularity|mean_rating|movie_type|\n",
      "+------------+----------+-----------+---------------+-----------+----------+\n",
      "|    1682.642|     7.709|    219.875|         41.287|      7.381| Franchise|\n",
      "|    1765.139|     7.913|      180.0|         61.163|      7.438|Standalone|\n",
      "+------------+----------+-----------+---------------+-----------+----------+\n",
      "\n"
     ]
    }
   ],
   "source": [
    "franchise_comparison = compare_franchise_vs_standalone(movies_df)\n",
    "print(\"\\nFranchise vs. Standalone Movie Performance:\")\n",
    "franchise_comparison.show()"
   ]
  },
  {
   "cell_type": "markdown",
   "id": "ea7175fc",
   "metadata": {},
   "source": [
    "## Most Successful Franchises & Directors"
   ]
  },
  {
   "cell_type": "markdown",
   "id": "95f1cf90",
   "metadata": {},
   "source": [
    "### Get most successful franchises"
   ]
  },
  {
   "cell_type": "code",
   "execution_count": 26,
   "id": "df5e0f01",
   "metadata": {},
   "outputs": [
    {
     "name": "stderr",
     "output_type": "stream",
     "text": [
      "2025-04-25 13:58:14,818 - src.analysis - INFO - Finding top 10 most successful movie franchises\n"
     ]
    },
    {
     "name": "stdout",
     "output_type": "stream",
     "text": [
      "\n",
      "Most Successful Movie Franchises:\n",
      "+-----------------------------------+-----------+------------+-----------+------------------+------------------+-----------------+\n",
      "|collection_name                    |movie_count|total_budget|mean_budget|total_revenue     |mean_revenue      |mean_rating      |\n",
      "+-----------------------------------+-----------+------------+-----------+------------------+------------------+-----------------+\n",
      "|The Avengers Collection            |4          |1241.0      |310.25     |7776.073348       |1944.018337       |7.871            |\n",
      "|Star Wars Collection               |2          |445.0       |222.5      |3400.9224540000005|1700.4612270000002|7.0195           |\n",
      "|Jurassic Park Collection           |2          |320.0       |160.0      |2982.00374        |1491.00187        |6.6155           |\n",
      "|Avatar Collection                  |1          |237.0       |237.0      |2923.706026       |2923.706026       |7.588            |\n",
      "|Frozen Collection                  |2          |300.0       |150.0      |2727.9024849999996|1363.9512424999998|7.247999999999999|\n",
      "|The Lion King (Reboot) Collection  |1          |260.0       |260.0      |1662.020819       |1662.020819       |7.11             |\n",
      "|The Fast and the Furious Collection|1          |190.0       |190.0      |1515.4            |1515.4            |7.226            |\n",
      "|Black Panther Collection           |1          |200.0       |200.0      |1349.926083       |1349.926083       |7.373            |\n",
      "|Harry Potter Collection            |1          |125.0       |125.0      |1341.511219       |1341.511219       |8.087            |\n",
      "|The Incredibles Collection         |1          |200.0       |200.0      |1242.805359       |1242.805359       |7.455            |\n",
      "+-----------------------------------+-----------+------------+-----------+------------------+------------------+-----------------+\n",
      "\n"
     ]
    }
   ],
   "source": [
    "successful_franchises = get_successful_franchises(spark)\n",
    "print(\"\\nMost Successful Movie Franchises:\")\n",
    "successful_franchises.show(truncate=False)"
   ]
  },
  {
   "cell_type": "markdown",
   "id": "883a428b",
   "metadata": {},
   "source": [
    "### Get most successful directors"
   ]
  },
  {
   "cell_type": "code",
   "execution_count": 27,
   "id": "e371c705",
   "metadata": {},
   "outputs": [
    {
     "name": "stderr",
     "output_type": "stream",
     "text": [
      "2025-04-25 13:58:15,395 - src.analysis - INFO - Finding top 10 most successful directors\n"
     ]
    },
    {
     "name": "stdout",
     "output_type": "stream",
     "text": [
      "\n",
      "Most Successful Directors:\n",
      "+-----------------------+---------------+-------------+-----------+\n",
      "|director               |movies_directed|total_revenue|mean_rating|\n",
      "+-----------------------+---------------+-------------+-----------+\n",
      "|James Cameron          |2              |5187.868379  |7.7465     |\n",
      "|Joss Whedon            |2              |2924.219209  |7.506      |\n",
      "|Anthony Russo|Joe Russo|1              |2799.4391    |8.237      |\n",
      "|J.J. Abrams            |1              |2068.223624  |7.261      |\n",
      "|Joe Russo|Anthony Russo|1              |2052.415039  |8.235      |\n",
      "|Colin Trevorrow        |1              |1671.537444  |6.693      |\n",
      "|Jon Favreau            |1              |1662.020819  |7.11       |\n",
      "|James Wan              |1              |1515.4       |7.226      |\n",
      "|Jennifer Lee|Chris Buck|1              |1453.683476  |7.249      |\n",
      "|Ryan Coogler           |1              |1349.926083  |7.373      |\n",
      "+-----------------------+---------------+-------------+-----------+\n",
      "\n"
     ]
    }
   ],
   "source": [
    "successful_directors = get_successful_directors(spark)\n",
    "print(\"\\nMost Successful Directors:\")\n",
    "successful_directors.show(truncate=False)"
   ]
  }
 ],
 "metadata": {
  "kernelspec": {
   "display_name": "venv310",
   "language": "python",
   "name": "python3"
  },
  "language_info": {
   "codemirror_mode": {
    "name": "ipython",
    "version": 3
   },
   "file_extension": ".py",
   "mimetype": "text/x-python",
   "name": "python",
   "nbconvert_exporter": "python",
   "pygments_lexer": "ipython3",
   "version": "3.10.10"
  }
 },
 "nbformat": 4,
 "nbformat_minor": 5
}
