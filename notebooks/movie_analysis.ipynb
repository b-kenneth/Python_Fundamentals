{
 "cells": [
  {
   "cell_type": "markdown",
   "id": "2a017b6b",
   "metadata": {},
   "source": [
    "# Movie Data Analysis with PySpark"
   ]
  },
  {
   "cell_type": "markdown",
   "id": "badd8b50",
   "metadata": {},
   "source": [
    "## Setup and Imports"
   ]
  },
  {
   "cell_type": "code",
   "execution_count": 2,
   "id": "e0f7cfbb",
   "metadata": {},
   "outputs": [
    {
     "name": "stdout",
     "output_type": "stream",
     "text": [
      "Setup complete\n"
     ]
    }
   ],
   "source": [
    "# Add the parent directory to sys.path to import from src\n",
    "import sys\n",
    "import os\n",
    "sys.path.append(os.path.abspath(os.path.join(os.getcwd(), '..')))\n",
    "\n",
    "# Import necessary libraries\n",
    "import json\n",
    "from dotenv import load_dotenv\n",
    "from pyspark.sql import functions as F\n",
    "\n",
    "# Import project modules\n",
    "from src.data_extraction import initialize_spark, fetch_all_movies, create_spark_dataframe\n",
    "\n",
    "# Load environment variables\n",
    "load_dotenv()\n",
    "\n",
    "# Access API token from environment variable\n",
    "API_ACCESS_TOKEN = os.getenv('API_ACCESS_TOKEN')\n",
    "BASE_URL = \"https://api.themoviedb.org/3/movie\"\n",
    "\n",
    "print(\"Setup complete\")\n"
   ]
  },
  {
   "cell_type": "markdown",
   "id": "ee10e98b",
   "metadata": {},
   "source": [
    "## Initialize Spark Session"
   ]
  },
  {
   "cell_type": "code",
   "execution_count": 3,
   "id": "88573368",
   "metadata": {},
   "outputs": [
    {
     "name": "stderr",
     "output_type": "stream",
     "text": [
      "2025-04-24 05:18:08,535 - src.data_extraction - INFO - PySpark session initialized: version 3.5.5\n"
     ]
    },
    {
     "name": "stdout",
     "output_type": "stream",
     "text": [
      "PySpark version: 3.5.5\n"
     ]
    }
   ],
   "source": [
    "# Initialize Spark session\n",
    "os.environ['PYSPARK_PYTHON'] = sys.executable\n",
    "os.environ['PYSPARK_DRIVER_PYTHON'] = sys.executable\n",
    "\n",
    "spark = initialize_spark(app_name=\"Movie Data Analysis\")\n",
    "print(f\"PySpark version: {spark.version}\")\n",
    "\n"
   ]
  },
  {
   "cell_type": "markdown",
   "id": "08189b1e",
   "metadata": {},
   "source": [
    "## Step 1: Fetch Movie Data from API"
   ]
  },
  {
   "cell_type": "code",
   "execution_count": 4,
   "id": "3a7e269f",
   "metadata": {},
   "outputs": [
    {
     "name": "stderr",
     "output_type": "stream",
     "text": [
      "2025-04-24 05:18:17,059 - src.data_extraction - INFO - Fetching data for 19 movies\n",
      "2025-04-24 05:18:17,784 - src.data_extraction - ERROR - Error 404 for movie_id=0\n",
      "2025-04-24 05:18:18,623 - src.data_extraction - INFO - Successfully fetched data for movie_id=299534\n",
      "2025-04-24 05:18:19,612 - src.data_extraction - INFO - Successfully fetched data for movie_id=19995\n",
      "2025-04-24 05:18:20,568 - src.data_extraction - INFO - Successfully fetched data for movie_id=140607\n",
      "2025-04-24 05:18:21,512 - src.data_extraction - INFO - Successfully fetched data for movie_id=299536\n",
      "2025-04-24 05:18:22,422 - src.data_extraction - INFO - Successfully fetched data for movie_id=597\n",
      "2025-04-24 05:18:23,338 - src.data_extraction - INFO - Successfully fetched data for movie_id=135397\n",
      "2025-04-24 05:18:24,144 - src.data_extraction - INFO - Successfully fetched data for movie_id=420818\n",
      "2025-04-24 05:18:25,231 - src.data_extraction - INFO - Successfully fetched data for movie_id=24428\n",
      "2025-04-24 05:18:26,204 - src.data_extraction - INFO - Successfully fetched data for movie_id=168259\n",
      "2025-04-24 05:18:27,135 - src.data_extraction - INFO - Successfully fetched data for movie_id=99861\n",
      "2025-04-24 05:18:28,047 - src.data_extraction - INFO - Successfully fetched data for movie_id=284054\n",
      "2025-04-24 05:18:28,970 - src.data_extraction - INFO - Successfully fetched data for movie_id=12445\n",
      "2025-04-24 05:18:29,888 - src.data_extraction - INFO - Successfully fetched data for movie_id=181808\n",
      "2025-04-24 05:18:31,009 - src.data_extraction - INFO - Successfully fetched data for movie_id=330457\n",
      "2025-04-24 05:18:31,949 - src.data_extraction - INFO - Successfully fetched data for movie_id=351286\n",
      "2025-04-24 05:18:32,859 - src.data_extraction - INFO - Successfully fetched data for movie_id=109445\n",
      "2025-04-24 05:18:33,676 - src.data_extraction - INFO - Successfully fetched data for movie_id=321612\n",
      "2025-04-24 05:18:34,593 - src.data_extraction - INFO - Successfully fetched data for movie_id=260513\n",
      "2025-04-24 05:18:34,712 - src.data_extraction - INFO - Successfully fetched data for 18 out of 19 movies\n"
     ]
    },
    {
     "name": "stdout",
     "output_type": "stream",
     "text": [
      "Raw data saved to file, fetched 18 movies\n"
     ]
    },
    {
     "name": "stderr",
     "output_type": "stream",
     "text": [
      "2025-04-24 05:18:53,830 - src.data_extraction - INFO - Created DataFrame with 18 movies and 27 columns\n"
     ]
    },
    {
     "name": "stdout",
     "output_type": "stream",
     "text": [
      "root\n",
      " |-- adult: boolean (nullable = true)\n",
      " |-- backdrop_path: string (nullable = true)\n",
      " |-- belongs_to_collection: map (nullable = true)\n",
      " |    |-- key: string\n",
      " |    |-- value: long (valueContainsNull = true)\n",
      " |-- budget: long (nullable = true)\n",
      " |-- credits: map (nullable = true)\n",
      " |    |-- key: string\n",
      " |    |-- value: array (valueContainsNull = true)\n",
      " |    |    |-- element: map (containsNull = true)\n",
      " |    |    |    |-- key: string\n",
      " |    |    |    |-- value: boolean (valueContainsNull = true)\n",
      " |-- genres: array (nullable = true)\n",
      " |    |-- element: map (containsNull = true)\n",
      " |    |    |-- key: string\n",
      " |    |    |-- value: long (valueContainsNull = true)\n",
      " |-- homepage: string (nullable = true)\n",
      " |-- id: long (nullable = true)\n",
      " |-- imdb_id: string (nullable = true)\n",
      " |-- origin_country: array (nullable = true)\n",
      " |    |-- element: string (containsNull = true)\n",
      " |-- original_language: string (nullable = true)\n",
      " |-- original_title: string (nullable = true)\n",
      " |-- overview: string (nullable = true)\n",
      " |-- popularity: double (nullable = true)\n",
      " |-- poster_path: string (nullable = true)\n",
      " |-- production_companies: array (nullable = true)\n",
      " |    |-- element: map (containsNull = true)\n",
      " |    |    |-- key: string\n",
      " |    |    |-- value: long (valueContainsNull = true)\n",
      " |-- production_countries: array (nullable = true)\n",
      " |    |-- element: map (containsNull = true)\n",
      " |    |    |-- key: string\n",
      " |    |    |-- value: string (valueContainsNull = true)\n",
      " |-- release_date: string (nullable = true)\n",
      " |-- revenue: long (nullable = true)\n",
      " |-- runtime: long (nullable = true)\n",
      " |-- spoken_languages: array (nullable = true)\n",
      " |    |-- element: map (containsNull = true)\n",
      " |    |    |-- key: string\n",
      " |    |    |-- value: string (valueContainsNull = true)\n",
      " |-- status: string (nullable = true)\n",
      " |-- tagline: string (nullable = true)\n",
      " |-- title: string (nullable = true)\n",
      " |-- video: boolean (nullable = true)\n",
      " |-- vote_average: double (nullable = true)\n",
      " |-- vote_count: long (nullable = true)\n",
      "\n",
      "+------+--------------------+------------+---------+----------+\n",
      "|    id|               title|release_date|   budget|   revenue|\n",
      "+------+--------------------+------------+---------+----------+\n",
      "|299534|   Avengers: Endgame|  2019-04-24|356000000|2799439100|\n",
      "| 19995|              Avatar|  2009-12-15|237000000|2923706026|\n",
      "|140607|Star Wars: The Fo...|  2015-12-15|245000000|2068223624|\n",
      "|299536|Avengers: Infinit...|  2018-04-25|300000000|2052415039|\n",
      "|   597|             Titanic|  1997-11-18|200000000|2264162353|\n",
      "+------+--------------------+------------+---------+----------+\n",
      "only showing top 5 rows\n",
      "\n"
     ]
    }
   ],
   "source": [
    "# List of movie IDs to fetch (as specified in the project requirements)\n",
    "movie_ids = [0, 299534, 19995, 140607, 299536, 597, 135397, 420818, 24428,\n",
    "             168259, 99861, 284054, 12445, 181808, 330457, 351286, 109445,\n",
    "             321612, 260513]\n",
    "\n",
    "# Fetch movie data from API\n",
    "all_movies_data = fetch_all_movies(movie_ids, BASE_URL, API_ACCESS_TOKEN)\n",
    "\n",
    "# Save raw data to JSON file for backup\n",
    "with open(\"../data/movies_raw.json\", \"w\") as json_file:\n",
    "    json.dump(all_movies_data, json_file, indent=4)\n",
    "print(f\"Raw data saved to file, fetched {len(all_movies_data)} movies\")\n",
    "\n",
    "# Convert movie data to PySpark DataFrame\n",
    "movies_df = create_spark_dataframe(spark, all_movies_data)\n",
    "\n",
    "# Display schema to understand the data structure\n",
    "movies_df.printSchema()\n",
    "\n",
    "# Display a sample of the data\n",
    "movies_df.select(\"id\", \"title\", \"release_date\", \"budget\", \"revenue\").show(5)\n",
    "\n"
   ]
  },
  {
   "cell_type": "code",
   "execution_count": null,
   "id": "0439bfea",
   "metadata": {},
   "outputs": [],
   "source": [
    "# Cache the DataFrame for better performance in subsequent operations\n",
    "movies_df.cache()\n",
    "\n",
    "# Save DataFrame in Parquet format (efficient for later loading)\n",
    "movies_df.write.mode(\"overwrite\").parquet(\"../data/movies_raw.parquet\")\n",
    "print(\"DataFrame saved to Parquet file\")\n"
   ]
  }
 ],
 "metadata": {
  "kernelspec": {
   "display_name": "venv310",
   "language": "python",
   "name": "python3"
  },
  "language_info": {
   "codemirror_mode": {
    "name": "ipython",
    "version": 3
   },
   "file_extension": ".py",
   "mimetype": "text/x-python",
   "name": "python",
   "nbconvert_exporter": "python",
   "pygments_lexer": "ipython3",
   "version": "3.10.10"
  }
 },
 "nbformat": 4,
 "nbformat_minor": 5
}
